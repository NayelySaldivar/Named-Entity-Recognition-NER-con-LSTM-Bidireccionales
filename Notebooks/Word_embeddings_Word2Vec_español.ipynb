{
  "nbformat": 4,
  "nbformat_minor": 0,
  "metadata": {
    "colab": {
      "name": "Word embeddings Word2Vec_español.ipynb",
      "provenance": [],
      "collapsed_sections": [],
      "include_colab_link": true
    },
    "kernelspec": {
      "display_name": "Python 3",
      "name": "python3"
    }
  },
  "cells": [
    {
      "cell_type": "markdown",
      "metadata": {
        "id": "view-in-github",
        "colab_type": "text"
      },
      "source": [
        "<a href=\"https://colab.research.google.com/github/NayelySaldivar/Named-Entity-Recognition-NER-con-LSTM-Bidireccionales/blob/main/Notebooks/Word_embeddings_Word2Vec_espa%C3%B1ol.ipynb\" target=\"_parent\"><img src=\"https://colab.research.google.com/assets/colab-badge.svg\" alt=\"Open In Colab\"/></a>"
      ]
    },
    {
      "cell_type": "code",
      "metadata": {
        "id": "nat60sgN4YxJ"
      },
      "source": [
        "import numpy as np\n",
        "import pandas as pd\n",
        "import gensim         # Procesamiento de lenguaje natural (NPL)\n",
        "\n",
        "import matplotlib.pyplot as plt \n",
        "import seaborn as sns  "
      ],
      "execution_count": 1,
      "outputs": []
    },
    {
      "cell_type": "code",
      "source": [
        "from google.colab import drive\n",
        "drive.mount('/content/drive')"
      ],
      "metadata": {
        "id": "gCZv2_OyCMPD",
        "outputId": "0848089a-a319-4893-a98f-632e7c5437ed",
        "colab": {
          "base_uri": "https://localhost:8080/"
        }
      },
      "execution_count": 2,
      "outputs": [
        {
          "output_type": "stream",
          "name": "stdout",
          "text": [
            "Mounted at /content/drive\n"
          ]
        }
      ]
    },
    {
      "cell_type": "markdown",
      "metadata": {
        "id": "uft5ezgNkV9L"
      },
      "source": [
        "# Cargar vectores de palabras Word2Vec en español\n",
        "Bajaremos los vectores word2vec en español entrenado con un corpus de 3 mil millones de palabras provenientes de noticias, Wikipedia, obras literiarias, entre otras fuentes.\n",
        "\n",
        "Cuenta con cerca de 2 millones vectores de 400 dimensiones correspondientes a 3  palabras y frases en inglés"
      ]
    },
    {
      "cell_type": "code",
      "metadata": {
        "id": "8q1io1dwURnd",
        "outputId": "f8b620e9-1e7e-4dd4-b287-66d341f1b748",
        "colab": {
          "base_uri": "https://localhost:8080/"
        }
      },
      "source": [
        "!wget wget -c \"https://zenodo.org/record/1410403/files/keyed_vectors.zip\"\n",
        "!unzip /content/keyed_vectors.zip -d /content/drive/MyDrive/Datos/Spanish3B_words_Word2Vec/"
      ],
      "execution_count": 3,
      "outputs": [
        {
          "output_type": "stream",
          "name": "stdout",
          "text": [
            "--2022-07-13 00:51:17--  http://wget/\n",
            "Resolving wget (wget)... failed: Name or service not known.\n",
            "wget: unable to resolve host address ‘wget’\n",
            "--2022-07-13 00:51:17--  https://zenodo.org/record/1410403/files/keyed_vectors.zip\n",
            "Resolving zenodo.org (zenodo.org)... 137.138.76.77\n",
            "Connecting to zenodo.org (zenodo.org)|137.138.76.77|:443... connected.\n",
            "HTTP request sent, awaiting response... 200 OK\n",
            "Length: 2933030481 (2.7G) [application/octet-stream]\n",
            "Saving to: ‘keyed_vectors.zip’\n",
            "\n",
            "keyed_vectors.zip   100%[===================>]   2.73G  64.4MB/s    in 66s     \n",
            "\n",
            "2022-07-13 00:52:23 (42.7 MB/s) - ‘keyed_vectors.zip’ saved [2933030481/2933030481]\n",
            "\n",
            "FINISHED --2022-07-13 00:52:23--\n",
            "Total wall clock time: 1m 6s\n",
            "Downloaded: 1 files, 2.7G in 1m 6s (42.7 MB/s)\n",
            "Archive:  /content/keyed_vectors.zip\n",
            "  inflating: /content/drive/MyDrive/Datos/Spanish3B_words_Word2Vec/complete.kv  \n",
            "  inflating: /content/drive/MyDrive/Datos/Spanish3B_words_Word2Vec/complete.kv.vectors.npy  \n"
          ]
        }
      ]
    },
    {
      "cell_type": "code",
      "metadata": {
        "id": "s2sec2RZNoqu"
      },
      "source": [
        "from gensim.models import KeyedVectors  #comparación keyedVectors y fullmodels https://radimrehurek.com/gensim/models/keyedvectors.html\n",
        "w2v = gensim.models.KeyedVectors.load('/content/drive/MyDrive/Datos/Spanish3B_words_Word2Vec/complete.kv', mmap='r')"
      ],
      "execution_count": 4,
      "outputs": []
    },
    {
      "cell_type": "code",
      "metadata": {
        "colab": {
          "base_uri": "https://localhost:8080/"
        },
        "id": "e0NYgwyFpZ-T",
        "outputId": "7f9c7cab-0545-4407-f67c-3b62b661ecce"
      },
      "source": [
        "vocabulario = w2v.index2word  #lista con todas las palabras\n",
        "\n",
        "print('Tamaño del vocabulario', len(vocabulario))"
      ],
      "execution_count": 5,
      "outputs": [
        {
          "output_type": "stream",
          "name": "stdout",
          "text": [
            "Tamaño del vocabulario 1943871\n"
          ]
        }
      ]
    },
    {
      "cell_type": "code",
      "source": [
        "# w2v['arbol']\n",
        "len(w2v.index2word)"
      ],
      "metadata": {
        "id": "sJC0FGEKF7j_",
        "outputId": "fb99b67e-1f12-4712-b69c-ad336c5a0547",
        "colab": {
          "base_uri": "https://localhost:8080/"
        }
      },
      "execution_count": 12,
      "outputs": [
        {
          "output_type": "execute_result",
          "data": {
            "text/plain": [
              "1943871"
            ]
          },
          "metadata": {},
          "execution_count": 12
        }
      ]
    },
    {
      "cell_type": "code",
      "metadata": {
        "colab": {
          "base_uri": "https://localhost:8080/"
        },
        "id": "VLpA0BuBqewA",
        "outputId": "d14c6b96-e2cf-4ad1-8bfc-0ba1691742f9"
      },
      "source": [
        "print(type(w2v['curso'])) \n",
        "w2v['curso'].shape"
      ],
      "execution_count": 6,
      "outputs": [
        {
          "output_type": "stream",
          "name": "stdout",
          "text": [
            "<class 'numpy.memmap'>\n"
          ]
        },
        {
          "output_type": "execute_result",
          "data": {
            "text/plain": [
              "(400,)"
            ]
          },
          "metadata": {},
          "execution_count": 6
        }
      ]
    },
    {
      "cell_type": "markdown",
      "metadata": {
        "id": "s8HtvrqfrNtf"
      },
      "source": [
        "numpy.memmap es un vector mapeado en memoria que se lee de un archivo binario en disco, sirve para acceder a pequeños segmenteos de grandes archivos en disco sin leer el archivo completo en la memoria"
      ]
    },
    {
      "cell_type": "markdown",
      "metadata": {
        "id": "RE154cMyeY3D"
      },
      "source": [
        "# Creación de diccionario de palabras y vectores"
      ]
    },
    {
      "cell_type": "code",
      "metadata": {
        "colab": {
          "base_uri": "https://localhost:8080/"
        },
        "id": "MTV8L2cbmMfc",
        "outputId": "49209b4b-5386-4f16-b170-4f73baff4fd2"
      },
      "source": [
        "%%time\n",
        "dic_word2vec  = {}\n",
        "for palabra in w2v.index2word:\n",
        "  dic_word2vec[palabra] = w2v[palabra]\n"
      ],
      "execution_count": 10,
      "outputs": [
        {
          "output_type": "stream",
          "name": "stdout",
          "text": [
            "CPU times: user 15.5 s, sys: 405 ms, total: 15.9 s\n",
            "Wall time: 16.8 s\n"
          ]
        }
      ]
    },
    {
      "cell_type": "code",
      "metadata": {
        "id": "jU-Q5Au38TKn",
        "colab": {
          "base_uri": "https://localhost:8080/"
        },
        "outputId": "469fea1e-9c51-4142-bdce-a3b058b40bc6"
      },
      "source": [
        "type(dic_word2vec['planta'])"
      ],
      "execution_count": 13,
      "outputs": [
        {
          "output_type": "execute_result",
          "data": {
            "text/plain": [
              "numpy.memmap"
            ]
          },
          "metadata": {},
          "execution_count": 13
        }
      ]
    },
    {
      "cell_type": "markdown",
      "metadata": {
        "id": "lTqFkkcKY_KU"
      },
      "source": [
        "# Ejemplos de vectores de palabras"
      ]
    },
    {
      "cell_type": "code",
      "metadata": {
        "colab": {
          "base_uri": "https://localhost:8080/",
          "height": 331
        },
        "id": "aYVeRb9xmNRY",
        "outputId": "8e120ba1-e0ff-4fc2-dbee-ade1cb789906"
      },
      "source": [
        "ejemplos = 'hombre mujer niño niña anciano anciana'.split()\n",
        "\n",
        "#Construcción de un dataframe con los vectores de las palabras elegidas\n",
        "vectores = {palabra: w2v[palabra] for palabra in ejemplos}\n",
        "X = pd.DataFrame.from_dict(vectores, orient='index')\n",
        "\n",
        "X"
      ],
      "execution_count": 14,
      "outputs": [
        {
          "output_type": "execute_result",
          "data": {
            "text/plain": [
              "              0         1         2         3         4         5         6    \\\n",
              "hombre  -1.314959 -1.988723 -0.186212  0.961444  2.206900  0.443114 -2.331165   \n",
              "mujer   -2.077840 -0.550113 -2.241080 -1.130049  0.423485  1.253572  1.823793   \n",
              "niño    -0.980197  0.379168 -1.628490  0.740260  0.672754 -1.611383 -1.487341   \n",
              "niña    -0.785558  1.140642 -2.783046 -0.986584 -0.662401 -0.999821  1.575360   \n",
              "anciano -1.462609 -0.177823  0.412988  0.387187  0.530428  1.525067 -0.157156   \n",
              "anciana -0.646151  1.120094  0.544747 -0.488459  0.093725  0.525432  1.881704   \n",
              "\n",
              "              7         8         9    ...       390       391       392  \\\n",
              "hombre   1.389492  1.694686 -2.246100  ...  2.126309 -2.004818 -0.539526   \n",
              "mujer    1.564688  1.346433 -0.638080  ...  2.047893  0.802070  1.143705   \n",
              "niño     1.693398  0.300244  0.611260  ...  3.418673 -3.246452 -0.482264   \n",
              "niña     0.772627  0.090723  1.891370  ...  2.501076 -1.100758  1.321898   \n",
              "anciano  1.564358  1.989367  0.003270  ...  2.125868 -1.997586 -0.604030   \n",
              "anciana  0.013177  2.159626  0.727379  ...  0.953973 -0.164040  0.683103   \n",
              "\n",
              "              393       394       395       396       397       398       399  \n",
              "hombre   2.057134  0.095133 -1.247631  1.805603 -1.157527  2.253980  0.995769  \n",
              "mujer   -2.771217  1.040919  1.405972  0.779694  1.193938 -1.475454 -0.874034  \n",
              "niño     1.422405 -0.443792 -2.026980  1.862297 -2.109965  1.405739  0.889196  \n",
              "niña    -1.026753  0.476598 -0.970495  2.535088 -0.669446 -1.908800 -0.699129  \n",
              "anciano  0.847122 -0.489761 -0.314335  0.452880 -1.270787  1.894508  1.808899  \n",
              "anciana -1.110066  0.384911 -0.531991  0.689910  0.052359 -0.433524  0.497133  \n",
              "\n",
              "[6 rows x 400 columns]"
            ],
            "text/html": [
              "\n",
              "  <div id=\"df-2d4dcbf0-df5b-44da-9a31-804902a87b2e\">\n",
              "    <div class=\"colab-df-container\">\n",
              "      <div>\n",
              "<style scoped>\n",
              "    .dataframe tbody tr th:only-of-type {\n",
              "        vertical-align: middle;\n",
              "    }\n",
              "\n",
              "    .dataframe tbody tr th {\n",
              "        vertical-align: top;\n",
              "    }\n",
              "\n",
              "    .dataframe thead th {\n",
              "        text-align: right;\n",
              "    }\n",
              "</style>\n",
              "<table border=\"1\" class=\"dataframe\">\n",
              "  <thead>\n",
              "    <tr style=\"text-align: right;\">\n",
              "      <th></th>\n",
              "      <th>0</th>\n",
              "      <th>1</th>\n",
              "      <th>2</th>\n",
              "      <th>3</th>\n",
              "      <th>4</th>\n",
              "      <th>5</th>\n",
              "      <th>6</th>\n",
              "      <th>7</th>\n",
              "      <th>8</th>\n",
              "      <th>9</th>\n",
              "      <th>...</th>\n",
              "      <th>390</th>\n",
              "      <th>391</th>\n",
              "      <th>392</th>\n",
              "      <th>393</th>\n",
              "      <th>394</th>\n",
              "      <th>395</th>\n",
              "      <th>396</th>\n",
              "      <th>397</th>\n",
              "      <th>398</th>\n",
              "      <th>399</th>\n",
              "    </tr>\n",
              "  </thead>\n",
              "  <tbody>\n",
              "    <tr>\n",
              "      <th>hombre</th>\n",
              "      <td>-1.314959</td>\n",
              "      <td>-1.988723</td>\n",
              "      <td>-0.186212</td>\n",
              "      <td>0.961444</td>\n",
              "      <td>2.206900</td>\n",
              "      <td>0.443114</td>\n",
              "      <td>-2.331165</td>\n",
              "      <td>1.389492</td>\n",
              "      <td>1.694686</td>\n",
              "      <td>-2.246100</td>\n",
              "      <td>...</td>\n",
              "      <td>2.126309</td>\n",
              "      <td>-2.004818</td>\n",
              "      <td>-0.539526</td>\n",
              "      <td>2.057134</td>\n",
              "      <td>0.095133</td>\n",
              "      <td>-1.247631</td>\n",
              "      <td>1.805603</td>\n",
              "      <td>-1.157527</td>\n",
              "      <td>2.253980</td>\n",
              "      <td>0.995769</td>\n",
              "    </tr>\n",
              "    <tr>\n",
              "      <th>mujer</th>\n",
              "      <td>-2.077840</td>\n",
              "      <td>-0.550113</td>\n",
              "      <td>-2.241080</td>\n",
              "      <td>-1.130049</td>\n",
              "      <td>0.423485</td>\n",
              "      <td>1.253572</td>\n",
              "      <td>1.823793</td>\n",
              "      <td>1.564688</td>\n",
              "      <td>1.346433</td>\n",
              "      <td>-0.638080</td>\n",
              "      <td>...</td>\n",
              "      <td>2.047893</td>\n",
              "      <td>0.802070</td>\n",
              "      <td>1.143705</td>\n",
              "      <td>-2.771217</td>\n",
              "      <td>1.040919</td>\n",
              "      <td>1.405972</td>\n",
              "      <td>0.779694</td>\n",
              "      <td>1.193938</td>\n",
              "      <td>-1.475454</td>\n",
              "      <td>-0.874034</td>\n",
              "    </tr>\n",
              "    <tr>\n",
              "      <th>niño</th>\n",
              "      <td>-0.980197</td>\n",
              "      <td>0.379168</td>\n",
              "      <td>-1.628490</td>\n",
              "      <td>0.740260</td>\n",
              "      <td>0.672754</td>\n",
              "      <td>-1.611383</td>\n",
              "      <td>-1.487341</td>\n",
              "      <td>1.693398</td>\n",
              "      <td>0.300244</td>\n",
              "      <td>0.611260</td>\n",
              "      <td>...</td>\n",
              "      <td>3.418673</td>\n",
              "      <td>-3.246452</td>\n",
              "      <td>-0.482264</td>\n",
              "      <td>1.422405</td>\n",
              "      <td>-0.443792</td>\n",
              "      <td>-2.026980</td>\n",
              "      <td>1.862297</td>\n",
              "      <td>-2.109965</td>\n",
              "      <td>1.405739</td>\n",
              "      <td>0.889196</td>\n",
              "    </tr>\n",
              "    <tr>\n",
              "      <th>niña</th>\n",
              "      <td>-0.785558</td>\n",
              "      <td>1.140642</td>\n",
              "      <td>-2.783046</td>\n",
              "      <td>-0.986584</td>\n",
              "      <td>-0.662401</td>\n",
              "      <td>-0.999821</td>\n",
              "      <td>1.575360</td>\n",
              "      <td>0.772627</td>\n",
              "      <td>0.090723</td>\n",
              "      <td>1.891370</td>\n",
              "      <td>...</td>\n",
              "      <td>2.501076</td>\n",
              "      <td>-1.100758</td>\n",
              "      <td>1.321898</td>\n",
              "      <td>-1.026753</td>\n",
              "      <td>0.476598</td>\n",
              "      <td>-0.970495</td>\n",
              "      <td>2.535088</td>\n",
              "      <td>-0.669446</td>\n",
              "      <td>-1.908800</td>\n",
              "      <td>-0.699129</td>\n",
              "    </tr>\n",
              "    <tr>\n",
              "      <th>anciano</th>\n",
              "      <td>-1.462609</td>\n",
              "      <td>-0.177823</td>\n",
              "      <td>0.412988</td>\n",
              "      <td>0.387187</td>\n",
              "      <td>0.530428</td>\n",
              "      <td>1.525067</td>\n",
              "      <td>-0.157156</td>\n",
              "      <td>1.564358</td>\n",
              "      <td>1.989367</td>\n",
              "      <td>0.003270</td>\n",
              "      <td>...</td>\n",
              "      <td>2.125868</td>\n",
              "      <td>-1.997586</td>\n",
              "      <td>-0.604030</td>\n",
              "      <td>0.847122</td>\n",
              "      <td>-0.489761</td>\n",
              "      <td>-0.314335</td>\n",
              "      <td>0.452880</td>\n",
              "      <td>-1.270787</td>\n",
              "      <td>1.894508</td>\n",
              "      <td>1.808899</td>\n",
              "    </tr>\n",
              "    <tr>\n",
              "      <th>anciana</th>\n",
              "      <td>-0.646151</td>\n",
              "      <td>1.120094</td>\n",
              "      <td>0.544747</td>\n",
              "      <td>-0.488459</td>\n",
              "      <td>0.093725</td>\n",
              "      <td>0.525432</td>\n",
              "      <td>1.881704</td>\n",
              "      <td>0.013177</td>\n",
              "      <td>2.159626</td>\n",
              "      <td>0.727379</td>\n",
              "      <td>...</td>\n",
              "      <td>0.953973</td>\n",
              "      <td>-0.164040</td>\n",
              "      <td>0.683103</td>\n",
              "      <td>-1.110066</td>\n",
              "      <td>0.384911</td>\n",
              "      <td>-0.531991</td>\n",
              "      <td>0.689910</td>\n",
              "      <td>0.052359</td>\n",
              "      <td>-0.433524</td>\n",
              "      <td>0.497133</td>\n",
              "    </tr>\n",
              "  </tbody>\n",
              "</table>\n",
              "<p>6 rows × 400 columns</p>\n",
              "</div>\n",
              "      <button class=\"colab-df-convert\" onclick=\"convertToInteractive('df-2d4dcbf0-df5b-44da-9a31-804902a87b2e')\"\n",
              "              title=\"Convert this dataframe to an interactive table.\"\n",
              "              style=\"display:none;\">\n",
              "        \n",
              "  <svg xmlns=\"http://www.w3.org/2000/svg\" height=\"24px\"viewBox=\"0 0 24 24\"\n",
              "       width=\"24px\">\n",
              "    <path d=\"M0 0h24v24H0V0z\" fill=\"none\"/>\n",
              "    <path d=\"M18.56 5.44l.94 2.06.94-2.06 2.06-.94-2.06-.94-.94-2.06-.94 2.06-2.06.94zm-11 1L8.5 8.5l.94-2.06 2.06-.94-2.06-.94L8.5 2.5l-.94 2.06-2.06.94zm10 10l.94 2.06.94-2.06 2.06-.94-2.06-.94-.94-2.06-.94 2.06-2.06.94z\"/><path d=\"M17.41 7.96l-1.37-1.37c-.4-.4-.92-.59-1.43-.59-.52 0-1.04.2-1.43.59L10.3 9.45l-7.72 7.72c-.78.78-.78 2.05 0 2.83L4 21.41c.39.39.9.59 1.41.59.51 0 1.02-.2 1.41-.59l7.78-7.78 2.81-2.81c.8-.78.8-2.07 0-2.86zM5.41 20L4 18.59l7.72-7.72 1.47 1.35L5.41 20z\"/>\n",
              "  </svg>\n",
              "      </button>\n",
              "      \n",
              "  <style>\n",
              "    .colab-df-container {\n",
              "      display:flex;\n",
              "      flex-wrap:wrap;\n",
              "      gap: 12px;\n",
              "    }\n",
              "\n",
              "    .colab-df-convert {\n",
              "      background-color: #E8F0FE;\n",
              "      border: none;\n",
              "      border-radius: 50%;\n",
              "      cursor: pointer;\n",
              "      display: none;\n",
              "      fill: #1967D2;\n",
              "      height: 32px;\n",
              "      padding: 0 0 0 0;\n",
              "      width: 32px;\n",
              "    }\n",
              "\n",
              "    .colab-df-convert:hover {\n",
              "      background-color: #E2EBFA;\n",
              "      box-shadow: 0px 1px 2px rgba(60, 64, 67, 0.3), 0px 1px 3px 1px rgba(60, 64, 67, 0.15);\n",
              "      fill: #174EA6;\n",
              "    }\n",
              "\n",
              "    [theme=dark] .colab-df-convert {\n",
              "      background-color: #3B4455;\n",
              "      fill: #D2E3FC;\n",
              "    }\n",
              "\n",
              "    [theme=dark] .colab-df-convert:hover {\n",
              "      background-color: #434B5C;\n",
              "      box-shadow: 0px 1px 3px 1px rgba(0, 0, 0, 0.15);\n",
              "      filter: drop-shadow(0px 1px 2px rgba(0, 0, 0, 0.3));\n",
              "      fill: #FFFFFF;\n",
              "    }\n",
              "  </style>\n",
              "\n",
              "      <script>\n",
              "        const buttonEl =\n",
              "          document.querySelector('#df-2d4dcbf0-df5b-44da-9a31-804902a87b2e button.colab-df-convert');\n",
              "        buttonEl.style.display =\n",
              "          google.colab.kernel.accessAllowed ? 'block' : 'none';\n",
              "\n",
              "        async function convertToInteractive(key) {\n",
              "          const element = document.querySelector('#df-2d4dcbf0-df5b-44da-9a31-804902a87b2e');\n",
              "          const dataTable =\n",
              "            await google.colab.kernel.invokeFunction('convertToInteractive',\n",
              "                                                     [key], {});\n",
              "          if (!dataTable) return;\n",
              "\n",
              "          const docLinkHtml = 'Like what you see? Visit the ' +\n",
              "            '<a target=\"_blank\" href=https://colab.research.google.com/notebooks/data_table.ipynb>data table notebook</a>'\n",
              "            + ' to learn more about interactive tables.';\n",
              "          element.innerHTML = '';\n",
              "          dataTable['output_type'] = 'display_data';\n",
              "          await google.colab.output.renderOutput(dataTable, element);\n",
              "          const docLink = document.createElement('div');\n",
              "          docLink.innerHTML = docLinkHtml;\n",
              "          element.appendChild(docLink);\n",
              "        }\n",
              "      </script>\n",
              "    </div>\n",
              "  </div>\n",
              "  "
            ]
          },
          "metadata": {},
          "execution_count": 14
        }
      ]
    },
    {
      "cell_type": "markdown",
      "metadata": {
        "id": "UC15Lp5csSOt"
      },
      "source": [
        "## Visualización de vectores"
      ]
    },
    {
      "cell_type": "code",
      "metadata": {
        "colab": {
          "base_uri": "https://localhost:8080/",
          "height": 387
        },
        "id": "cMoPIz8PsAZV",
        "outputId": "9ed2d4b4-3e5a-426c-90e7-70dab3639d62"
      },
      "source": [
        "#Visualización de los vectores de las palabas elegidas\n",
        "fig = plt.figure(figsize = (25, 6))\n",
        "ax = sns.heatmap(X, vmin = -6, vmax = 6,center = 0)"
      ],
      "execution_count": 15,
      "outputs": [
        {
          "output_type": "display_data",
          "data": {
            "text/plain": [
              "<Figure size 1800x432 with 2 Axes>"
            ],
            "image/png": "[encoded data removed]"
          },
          "metadata": {
            "needs_background": "light"
          }
        }
      ]
    },
    {
      "cell_type": "markdown",
      "metadata": {
        "id": "YhTTzuvbsXPa"
      },
      "source": [
        "##Visualización de vectores en un espacio tridimensional"
      ]
    },
    {
      "cell_type": "code",
      "metadata": {
        "colab": {
          "base_uri": "https://localhost:8080/",
          "height": 542
        },
        "id": "_eVDeDk_unYM",
        "outputId": "3f9fc983-3d4a-4fd9-ee6c-403963c79ea6"
      },
      "source": [
        "import plotly.express as px\n",
        "from sklearn.decomposition import PCA\n",
        "\n",
        "pca = PCA(n_components=3)\n",
        "components = pd.DataFrame(pca.fit_transform(X), index = X.index)\n",
        "components.reset_index(inplace=True)\n",
        "\n",
        "\n",
        "fig = px.scatter_3d( components, x=0, y=1, z=2, color='index',  \n",
        "                    labels={'0': 'PC 1', '1': 'PC 2', '2': 'PC 3'})\n",
        "fig.show()"
      ],
      "execution_count": 16,
      "outputs": [
        {
          "output_type": "display_data",
          "data": {
            "text/html": [
              "<html>\n",
              "<head><meta charset=\"utf-8\" /></head>\n",
              "<body>\n",
              "    <div>            <script src=\"https://cdnjs.cloudflare.com/ajax/libs/mathjax/2.7.5/MathJax.js?config=TeX-AMS-MML_SVG\"></script><script type=\"text/javascript\">if (window.MathJax) {MathJax.Hub.Config({SVG: {font: \"STIX-Web\"}});}</script>                <script type=\"text/javascript\">window.PlotlyConfig = {MathJaxConfig: 'local'};</script>\n",
              "        <script src=\"https://cdn.plot.ly/plotly-2.8.3.min.js\"></script>                <div id=\"78478fe6-90e3-4670-8c2a-fd5ebd803df9\" class=\"plotly-graph-div\" style=\"height:525px; width:100%;\"></div>            <script type=\"text/javascript\">                                    window.PLOTLYENV=window.PLOTLYENV || {};                                    if (document.getElementById(\"78478fe6-90e3-4670-8c2a-fd5ebd803df9\")) {                    Plotly.newPlot(                        \"78478fe6-90e3-4670-8c2a-fd5ebd803df9\",                        [{\"hovertemplate\":\"index=hombre<br>PC 1=%{x}<br>PC 2=%{y}<br>PC 3=%{z}<extra></extra>\",\"legendgroup\":\"hombre\",\"marker\":{\"color\":\"#636efa\",\"symbol\":\"circle\"},\"mode\":\"markers\",\"name\":\"hombre\",\"scene\":\"scene\",\"showlegend\":true,\"x\":[20.039859771728516],\"y\":[-2.1820993423461914],\"z\":[12.07591724395752],\"type\":\"scatter3d\"},{\"hovertemplate\":\"index=mujer<br>PC 1=%{x}<br>PC 2=%{y}<br>PC 3=%{z}<extra></extra>\",\"legendgroup\":\"mujer\",\"marker\":{\"color\":\"#EF553B\",\"symbol\":\"circle\"},\"mode\":\"markers\",\"name\":\"mujer\",\"scene\":\"scene\",\"showlegend\":true,\"x\":[-17.29022979736328],\"y\":[-3.1708905696868896],\"z\":[11.975883483886719],\"type\":\"scatter3d\"},{\"hovertemplate\":\"index=ni\\u00f1o<br>PC 1=%{x}<br>PC 2=%{y}<br>PC 3=%{z}<extra></extra>\",\"legendgroup\":\"ni\\u00f1o\",\"marker\":{\"color\":\"#00cc96\",\"symbol\":\"circle\"},\"mode\":\"markers\",\"name\":\"ni\\u00f1o\",\"scene\":\"scene\",\"showlegend\":true,\"x\":[11.7470121383667],\"y\":[14.621684074401855],\"z\":[-4.693485736846924],\"type\":\"scatter3d\"},{\"hovertemplate\":\"index=ni\\u00f1a<br>PC 1=%{x}<br>PC 2=%{y}<br>PC 3=%{z}<extra></extra>\",\"legendgroup\":\"ni\\u00f1a\",\"marker\":{\"color\":\"#ab63fa\",\"symbol\":\"circle\"},\"mode\":\"markers\",\"name\":\"ni\\u00f1a\",\"scene\":\"scene\",\"showlegend\":true,\"x\":[-16.027124404907227],\"y\":[9.715102195739746],\"z\":[-2.667001247406006],\"type\":\"scatter3d\"},{\"hovertemplate\":\"index=anciano<br>PC 1=%{x}<br>PC 2=%{y}<br>PC 3=%{z}<extra></extra>\",\"legendgroup\":\"anciano\",\"marker\":{\"color\":\"#FFA15A\",\"symbol\":\"circle\"},\"mode\":\"markers\",\"name\":\"anciano\",\"scene\":\"scene\",\"showlegend\":true,\"x\":[12.743521690368652],\"y\":[-10.01889705657959],\"z\":[-8.753512382507324],\"type\":\"scatter3d\"},{\"hovertemplate\":\"index=anciana<br>PC 1=%{x}<br>PC 2=%{y}<br>PC 3=%{z}<extra></extra>\",\"legendgroup\":\"anciana\",\"marker\":{\"color\":\"#19d3f3\",\"symbol\":\"circle\"},\"mode\":\"markers\",\"name\":\"anciana\",\"scene\":\"scene\",\"showlegend\":true,\"x\":[-11.213038444519043],\"y\":[-8.964886665344238],\"z\":[-7.937797546386719],\"type\":\"scatter3d\"}],                        {\"template\":{\"data\":{\"bar\":[{\"error_x\":{\"color\":\"#2a3f5f\"},\"error_y\":{\"color\":\"#2a3f5f\"},\"marker\":{\"line\":{\"color\":\"#E5ECF6\",\"width\":0.5},\"pattern\":{\"fillmode\":\"overlay\",\"size\":10,\"solidity\":0.2}},\"type\":\"bar\"}],\"barpolar\":[{\"marker\":{\"line\":{\"color\":\"#E5ECF6\",\"width\":0.5},\"pattern\":{\"fillmode\":\"overlay\",\"size\":10,\"solidity\":0.2}},\"type\":\"barpolar\"}],\"carpet\":[{\"aaxis\":{\"endlinecolor\":\"#2a3f5f\",\"gridcolor\":\"white\",\"linecolor\":\"white\",\"minorgridcolor\":\"white\",\"startlinecolor\":\"#2a3f5f\"},\"baxis\":{\"endlinecolor\":\"#2a3f5f\",\"gridcolor\":\"white\",\"linecolor\":\"white\",\"minorgridcolor\":\"white\",\"startlinecolor\":\"#2a3f5f\"},\"type\":\"carpet\"}],\"choropleth\":[{\"colorbar\":{\"outlinewidth\":0,\"ticks\":\"\"},\"type\":\"choropleth\"}],\"contour\":[{\"colorbar\":{\"outlinewidth\":0,\"ticks\":\"\"},\"colorscale\":[[0.0,\"#0d0887\"],[0.1111111111111111,\"#46039f\"],[0.2222222222222222,\"#7201a8\"],[0.3333333333333333,\"#9c179e\"],[0.4444444444444444,\"#bd3786\"],[0.5555555555555556,\"#d8576b\"],[0.6666666666666666,\"#ed7953\"],[0.7777777777777778,\"#fb9f3a\"],[0.8888888888888888,\"#fdca26\"],[1.0,\"#f0f921\"]],\"type\":\"contour\"}],\"contourcarpet\":[{\"colorbar\":{\"outlinewidth\":0,\"ticks\":\"\"},\"type\":\"contourcarpet\"}],\"heatmap\":[{\"colorbar\":{\"outlinewidth\":0,\"ticks\":\"\"},\"colorscale\":[[0.0,\"#0d0887\"],[0.1111111111111111,\"#46039f\"],[0.2222222222222222,\"#7201a8\"],[0.3333333333333333,\"#9c179e\"],[0.4444444444444444,\"#bd3786\"],[0.5555555555555556,\"#d8576b\"],[0.6666666666666666,\"#ed7953\"],[0.7777777777777778,\"#fb9f3a\"],[0.8888888888888888,\"#fdca26\"],[1.0,\"#f0f921\"]],\"type\":\"heatmap\"}],\"heatmapgl\":[{\"colorbar\":{\"outlinewidth\":0,\"ticks\":\"\"},\"colorscale\":[[0.0,\"#0d0887\"],[0.1111111111111111,\"#46039f\"],[0.2222222222222222,\"#7201a8\"],[0.3333333333333333,\"#9c179e\"],[0.4444444444444444,\"#bd3786\"],[0.5555555555555556,\"#d8576b\"],[0.6666666666666666,\"#ed7953\"],[0.7777777777777778,\"#fb9f3a\"],[0.8888888888888888,\"#fdca26\"],[1.0,\"#f0f921\"]],\"type\":\"heatmapgl\"}],\"histogram\":[{\"marker\":{\"pattern\":{\"fillmode\":\"overlay\",\"size\":10,\"solidity\":0.2}},\"type\":\"histogram\"}],\"histogram2d\":[{\"colorbar\":{\"outlinewidth\":0,\"ticks\":\"\"},\"colorscale\":[[0.0,\"#0d0887\"],[0.1111111111111111,\"#46039f\"],[0.2222222222222222,\"#7201a8\"],[0.3333333333333333,\"#9c179e\"],[0.4444444444444444,\"#bd3786\"],[0.5555555555555556,\"#d8576b\"],[0.6666666666666666,\"#ed7953\"],[0.7777777777777778,\"#fb9f3a\"],[0.8888888888888888,\"#fdca26\"],[1.0,\"#f0f921\"]],\"type\":\"histogram2d\"}],\"histogram2dcontour\":[{\"colorbar\":{\"outlinewidth\":0,\"ticks\":\"\"},\"colorscale\":[[0.0,\"#0d0887\"],[0.1111111111111111,\"#46039f\"],[0.2222222222222222,\"#7201a8\"],[0.3333333333333333,\"#9c179e\"],[0.4444444444444444,\"#bd3786\"],[0.5555555555555556,\"#d8576b\"],[0.6666666666666666,\"#ed7953\"],[0.7777777777777778,\"#fb9f3a\"],[0.8888888888888888,\"#fdca26\"],[1.0,\"#f0f921\"]],\"type\":\"histogram2dcontour\"}],\"mesh3d\":[{\"colorbar\":{\"outlinewidth\":0,\"ticks\":\"\"},\"type\":\"mesh3d\"}],\"parcoords\":[{\"line\":{\"colorbar\":{\"outlinewidth\":0,\"ticks\":\"\"}},\"type\":\"parcoords\"}],\"pie\":[{\"automargin\":true,\"type\":\"pie\"}],\"scatter\":[{\"marker\":{\"colorbar\":{\"outlinewidth\":0,\"ticks\":\"\"}},\"type\":\"scatter\"}],\"scatter3d\":[{\"line\":{\"colorbar\":{\"outlinewidth\":0,\"ticks\":\"\"}},\"marker\":{\"colorbar\":{\"outlinewidth\":0,\"ticks\":\"\"}},\"type\":\"scatter3d\"}],\"scattercarpet\":[{\"marker\":{\"colorbar\":{\"outlinewidth\":0,\"ticks\":\"\"}},\"type\":\"scattercarpet\"}],\"scattergeo\":[{\"marker\":{\"colorbar\":{\"outlinewidth\":0,\"ticks\":\"\"}},\"type\":\"scattergeo\"}],\"scattergl\":[{\"marker\":{\"colorbar\":{\"outlinewidth\":0,\"ticks\":\"\"}},\"type\":\"scattergl\"}],\"scattermapbox\":[{\"marker\":{\"colorbar\":{\"outlinewidth\":0,\"ticks\":\"\"}},\"type\":\"scattermapbox\"}],\"scatterpolar\":[{\"marker\":{\"colorbar\":{\"outlinewidth\":0,\"ticks\":\"\"}},\"type\":\"scatterpolar\"}],\"scatterpolargl\":[{\"marker\":{\"colorbar\":{\"outlinewidth\":0,\"ticks\":\"\"}},\"type\":\"scatterpolargl\"}],\"scatterternary\":[{\"marker\":{\"colorbar\":{\"outlinewidth\":0,\"ticks\":\"\"}},\"type\":\"scatterternary\"}],\"surface\":[{\"colorbar\":{\"outlinewidth\":0,\"ticks\":\"\"},\"colorscale\":[[0.0,\"#0d0887\"],[0.1111111111111111,\"#46039f\"],[0.2222222222222222,\"#7201a8\"],[0.3333333333333333,\"#9c179e\"],[0.4444444444444444,\"#bd3786\"],[0.5555555555555556,\"#d8576b\"],[0.6666666666666666,\"#ed7953\"],[0.7777777777777778,\"#fb9f3a\"],[0.8888888888888888,\"#fdca26\"],[1.0,\"#f0f921\"]],\"type\":\"surface\"}],\"table\":[{\"cells\":{\"fill\":{\"color\":\"#EBF0F8\"},\"line\":{\"color\":\"white\"}},\"header\":{\"fill\":{\"color\":\"#C8D4E3\"},\"line\":{\"color\":\"white\"}},\"type\":\"table\"}]},\"layout\":{\"annotationdefaults\":{\"arrowcolor\":\"#2a3f5f\",\"arrowhead\":0,\"arrowwidth\":1},\"autotypenumbers\":\"strict\",\"coloraxis\":{\"colorbar\":{\"outlinewidth\":0,\"ticks\":\"\"}},\"colorscale\":{\"diverging\":[[0,\"#8e0152\"],[0.1,\"#c51b7d\"],[0.2,\"#de77ae\"],[0.3,\"#f1b6da\"],[0.4,\"#fde0ef\"],[0.5,\"#f7f7f7\"],[0.6,\"#e6f5d0\"],[0.7,\"#b8e186\"],[0.8,\"#7fbc41\"],[0.9,\"#4d9221\"],[1,\"#276419\"]],\"sequential\":[[0.0,\"#0d0887\"],[0.1111111111111111,\"#46039f\"],[0.2222222222222222,\"#7201a8\"],[0.3333333333333333,\"#9c179e\"],[0.4444444444444444,\"#bd3786\"],[0.5555555555555556,\"#d8576b\"],[0.6666666666666666,\"#ed7953\"],[0.7777777777777778,\"#fb9f3a\"],[0.8888888888888888,\"#fdca26\"],[1.0,\"#f0f921\"]],\"sequentialminus\":[[0.0,\"#0d0887\"],[0.1111111111111111,\"#46039f\"],[0.2222222222222222,\"#7201a8\"],[0.3333333333333333,\"#9c179e\"],[0.4444444444444444,\"#bd3786\"],[0.5555555555555556,\"#d8576b\"],[0.6666666666666666,\"#ed7953\"],[0.7777777777777778,\"#fb9f3a\"],[0.8888888888888888,\"#fdca26\"],[1.0,\"#f0f921\"]]},\"colorway\":[\"#636efa\",\"#EF553B\",\"#00cc96\",\"#ab63fa\",\"#FFA15A\",\"#19d3f3\",\"#FF6692\",\"#B6E880\",\"#FF97FF\",\"#FECB52\"],\"font\":{\"color\":\"#2a3f5f\"},\"geo\":{\"bgcolor\":\"white\",\"lakecolor\":\"white\",\"landcolor\":\"#E5ECF6\",\"showlakes\":true,\"showland\":true,\"subunitcolor\":\"white\"},\"hoverlabel\":{\"align\":\"left\"},\"hovermode\":\"closest\",\"mapbox\":{\"style\":\"light\"},\"paper_bgcolor\":\"white\",\"plot_bgcolor\":\"#E5ECF6\",\"polar\":{\"angularaxis\":{\"gridcolor\":\"white\",\"linecolor\":\"white\",\"ticks\":\"\"},\"bgcolor\":\"#E5ECF6\",\"radialaxis\":{\"gridcolor\":\"white\",\"linecolor\":\"white\",\"ticks\":\"\"}},\"scene\":{\"xaxis\":{\"backgroundcolor\":\"#E5ECF6\",\"gridcolor\":\"white\",\"gridwidth\":2,\"linecolor\":\"white\",\"showbackground\":true,\"ticks\":\"\",\"zerolinecolor\":\"white\"},\"yaxis\":{\"backgroundcolor\":\"#E5ECF6\",\"gridcolor\":\"white\",\"gridwidth\":2,\"linecolor\":\"white\",\"showbackground\":true,\"ticks\":\"\",\"zerolinecolor\":\"white\"},\"zaxis\":{\"backgroundcolor\":\"#E5ECF6\",\"gridcolor\":\"white\",\"gridwidth\":2,\"linecolor\":\"white\",\"showbackground\":true,\"ticks\":\"\",\"zerolinecolor\":\"white\"}},\"shapedefaults\":{\"line\":{\"color\":\"#2a3f5f\"}},\"ternary\":{\"aaxis\":{\"gridcolor\":\"white\",\"linecolor\":\"white\",\"ticks\":\"\"},\"baxis\":{\"gridcolor\":\"white\",\"linecolor\":\"white\",\"ticks\":\"\"},\"bgcolor\":\"#E5ECF6\",\"caxis\":{\"gridcolor\":\"white\",\"linecolor\":\"white\",\"ticks\":\"\"}},\"title\":{\"x\":0.05},\"xaxis\":{\"automargin\":true,\"gridcolor\":\"white\",\"linecolor\":\"white\",\"ticks\":\"\",\"title\":{\"standoff\":15},\"zerolinecolor\":\"white\",\"zerolinewidth\":2},\"yaxis\":{\"automargin\":true,\"gridcolor\":\"white\",\"linecolor\":\"white\",\"ticks\":\"\",\"title\":{\"standoff\":15},\"zerolinecolor\":\"white\",\"zerolinewidth\":2}}},\"scene\":{\"domain\":{\"x\":[0.0,1.0],\"y\":[0.0,1.0]},\"xaxis\":{\"title\":{\"text\":\"PC 1\"}},\"yaxis\":{\"title\":{\"text\":\"PC 2\"}},\"zaxis\":{\"title\":{\"text\":\"PC 3\"}}},\"legend\":{\"title\":{\"text\":\"index\"},\"tracegroupgap\":0},\"margin\":{\"t\":60}},                        {\"responsive\": true}                    ).then(function(){\n",
              "                            \n",
              "var gd = document.getElementById('78478fe6-90e3-4670-8c2a-fd5ebd803df9');\n",
              "var x = new MutationObserver(function (mutations, observer) {{\n",
              "        var display = window.getComputedStyle(gd).display;\n",
              "        if (!display || display === 'none') {{\n",
              "            console.log([gd, 'removed!']);\n",
              "            Plotly.purge(gd);\n",
              "            observer.disconnect();\n",
              "        }}\n",
              "}});\n",
              "\n",
              "// Listen for the removal of the full notebook cells\n",
              "var notebookContainer = gd.closest('#notebook-container');\n",
              "if (notebookContainer) {{\n",
              "    x.observe(notebookContainer, {childList: true});\n",
              "}}\n",
              "\n",
              "// Listen for the clearing of the current output cell\n",
              "var outputEl = gd.closest('.output');\n",
              "if (outputEl) {{\n",
              "    x.observe(outputEl, {childList: true});\n",
              "}}\n",
              "\n",
              "                        })                };                            </script>        </div>\n",
              "</body>\n",
              "</html>"
            ]
          },
          "metadata": {}
        }
      ]
    },
    {
      "cell_type": "markdown",
      "metadata": {
        "id": "S5ot6RltshpT"
      },
      "source": [
        "# Similitud entre vectores\n",
        "[similitud coseno](https://en.wikipedia.org/wiki/Cosine_similarity)"
      ]
    },
    {
      "cell_type": "markdown",
      "source": [
        "## Similitud entre dos palabras"
      ],
      "metadata": {
        "id": "TjVtt4A3vEyy"
      }
    },
    {
      "cell_type": "code",
      "metadata": {
        "id": "n31R_6YVmiHb"
      },
      "source": [
        "def similitud_coseno(a_vector, b_vector):\n",
        "    '''Calcula la similitud coseno entre los vectores a y b'''\n",
        "\n",
        "    numerador = np.dot(a_vector, b_vector)\n",
        "    \n",
        "    a_norm = np.sqrt(np.sum(a_vector**2))  \n",
        "    b_norm = np.sqrt(np.sum(b_vector**2))\n",
        "    \n",
        "    denominador = a_norm * b_norm\n",
        "    \n",
        "    similitud_coseno = numerador / denominador \n",
        "    \n",
        "    return similitud_coseno"
      ],
      "execution_count": 17,
      "outputs": []
    },
    {
      "cell_type": "code",
      "metadata": {
        "colab": {
          "base_uri": "https://localhost:8080/"
        },
        "id": "WvRLcCJF5486",
        "outputId": "5bba7695-422b-4d61-fd1c-6b5e86c8f612"
      },
      "source": [
        "similitud_coseno(w2v['computadora'], w2v['calculadora'])"
      ],
      "execution_count": 18,
      "outputs": [
        {
          "output_type": "execute_result",
          "data": {
            "text/plain": [
              "0.528302"
            ]
          },
          "metadata": {},
          "execution_count": 18
        }
      ]
    },
    {
      "cell_type": "code",
      "source": [
        "similitud_coseno(w2v['niño'], w2v['niña'])"
      ],
      "metadata": {
        "id": "K3mD58mUHsy8",
        "outputId": "61eb611a-1be6-4d0d-ef29-2670d1334df4",
        "colab": {
          "base_uri": "https://localhost:8080/"
        }
      },
      "execution_count": 19,
      "outputs": [
        {
          "output_type": "execute_result",
          "data": {
            "text/plain": [
              "0.5560527"
            ]
          },
          "metadata": {},
          "execution_count": 19
        }
      ]
    },
    {
      "cell_type": "code",
      "source": [
        "similitud_coseno(w2v['hombre'], w2v['niño'])"
      ],
      "metadata": {
        "id": "sfNsEJOiHv-b",
        "outputId": "de1e4e2b-d95b-4dc1-da90-4e38c768d5c5",
        "colab": {
          "base_uri": "https://localhost:8080/"
        }
      },
      "execution_count": 20,
      "outputs": [
        {
          "output_type": "execute_result",
          "data": {
            "text/plain": [
              "0.6658662"
            ]
          },
          "metadata": {},
          "execution_count": 20
        }
      ]
    },
    {
      "cell_type": "code",
      "source": [
        "similitud_coseno(w2v['mujer'], w2v['flor'])"
      ],
      "metadata": {
        "id": "uPg0Z7XrHzRZ",
        "outputId": "1fc87b83-378b-4d48-d6d7-1eff97b9bc67",
        "colab": {
          "base_uri": "https://localhost:8080/"
        }
      },
      "execution_count": 21,
      "outputs": [
        {
          "output_type": "execute_result",
          "data": {
            "text/plain": [
              "0.4396722"
            ]
          },
          "metadata": {},
          "execution_count": 21
        }
      ]
    },
    {
      "cell_type": "markdown",
      "source": [
        "## Similitud de una palabra con palabras seleccionadas "
      ],
      "metadata": {
        "id": "p4pVaFOXuu8v"
      }
    },
    {
      "cell_type": "code",
      "metadata": {
        "id": "WvGE2f77TdFW"
      },
      "source": [
        "def encuentra_similitudes(palabra, texto):\n",
        "  lista = texto.split()\n",
        "  lista.append(palabra)\n",
        "  vectores = {}\n",
        "  for p in lista:\n",
        "    vectores[p] = w2v[p]\n",
        "  X = pd.DataFrame.from_dict(vectores, orient='index')\n",
        "\n",
        "  pca = PCA(n_components=3)\n",
        "  components = pd.DataFrame(pca.fit_transform(X), index = X.index)\n",
        "  components.reset_index(inplace=True)\n",
        "\n",
        "  fig = px.scatter_3d( \n",
        "        components, x=0, y=1, z=2, color='index',\n",
        "        labels={'0': 'PC 1', '1': 'PC 2', '2': 'PC 3'})\n",
        "  fig.show()\n",
        "\n",
        "  palabra_vec = X.loc[palabra, :]\n",
        "  similitud={}\n",
        "  for p in lista[:-1]:    # todas las palabras excepto la última\n",
        "    p_vec = X.loc[p,:]\n",
        "    similitud[p] = similitud_coseno(palabra_vec, p_vec)\n",
        "  print(pd.Series(similitud).sort_values())\n"
      ],
      "execution_count": 22,
      "outputs": []
    },
    {
      "cell_type": "code",
      "metadata": {
        "colab": {
          "base_uri": "https://localhost:8080/",
          "height": 698
        },
        "id": "bmKygsiMV41W",
        "outputId": "37eeeeeb-edbe-4981-8292-d0c70668b987"
      },
      "source": [
        "encuentra_similitudes('perro', 'gato pájaro tiburón libélula lobo mariposa araña ardilla')"
      ],
      "execution_count": 23,
      "outputs": [
        {
          "output_type": "display_data",
          "data": {
            "text/html": [
              "<html>\n",
              "<head><meta charset=\"utf-8\" /></head>\n",
              "<body>\n",
              "    <div>            <script src=\"https://cdnjs.cloudflare.com/ajax/libs/mathjax/2.7.5/MathJax.js?config=TeX-AMS-MML_SVG\"></script><script type=\"text/javascript\">if (window.MathJax) {MathJax.Hub.Config({SVG: {font: \"STIX-Web\"}});}</script>                <script type=\"text/javascript\">window.PlotlyConfig = {MathJaxConfig: 'local'};</script>\n",
              "        <script src=\"https://cdn.plot.ly/plotly-2.8.3.min.js\"></script>                <div id=\"55a402c9-c433-43f0-8cb0-aec2e04f6409\" class=\"plotly-graph-div\" style=\"height:525px; width:100%;\"></div>            <script type=\"text/javascript\">                                    window.PLOTLYENV=window.PLOTLYENV || {};                                    if (document.getElementById(\"55a402c9-c433-43f0-8cb0-aec2e04f6409\")) {                    Plotly.newPlot(                        \"55a402c9-c433-43f0-8cb0-aec2e04f6409\",                        [{\"hovertemplate\":\"index=gato<br>PC 1=%{x}<br>PC 2=%{y}<br>PC 3=%{z}<extra></extra>\",\"legendgroup\":\"gato\",\"marker\":{\"color\":\"#636efa\",\"symbol\":\"circle\"},\"mode\":\"markers\",\"name\":\"gato\",\"scene\":\"scene\",\"showlegend\":true,\"x\":[12.55128288269043],\"y\":[-8.350695610046387],\"z\":[-0.8275265097618103],\"type\":\"scatter3d\"},{\"hovertemplate\":\"index=p\\u00e1jaro<br>PC 1=%{x}<br>PC 2=%{y}<br>PC 3=%{z}<extra></extra>\",\"legendgroup\":\"p\\u00e1jaro\",\"marker\":{\"color\":\"#EF553B\",\"symbol\":\"circle\"},\"mode\":\"markers\",\"name\":\"p\\u00e1jaro\",\"scene\":\"scene\",\"showlegend\":true,\"x\":[4.226912975311279],\"y\":[-0.9933322072029114],\"z\":[14.999750137329102],\"type\":\"scatter3d\"},{\"hovertemplate\":\"index=tibur\\u00f3n<br>PC 1=%{x}<br>PC 2=%{y}<br>PC 3=%{z}<extra></extra>\",\"legendgroup\":\"tibur\\u00f3n\",\"marker\":{\"color\":\"#00cc96\",\"symbol\":\"circle\"},\"mode\":\"markers\",\"name\":\"tibur\\u00f3n\",\"scene\":\"scene\",\"showlegend\":true,\"x\":[6.3170485496521],\"y\":[13.067229270935059],\"z\":[-0.4362938404083252],\"type\":\"scatter3d\"},{\"hovertemplate\":\"index=lib\\u00e9lula<br>PC 1=%{x}<br>PC 2=%{y}<br>PC 3=%{z}<extra></extra>\",\"legendgroup\":\"lib\\u00e9lula\",\"marker\":{\"color\":\"#ab63fa\",\"symbol\":\"circle\"},\"mode\":\"markers\",\"name\":\"lib\\u00e9lula\",\"scene\":\"scene\",\"showlegend\":true,\"x\":[-13.29126262664795],\"y\":[0.7911202311515808],\"z\":[2.506218433380127],\"type\":\"scatter3d\"},{\"hovertemplate\":\"index=lobo<br>PC 1=%{x}<br>PC 2=%{y}<br>PC 3=%{z}<extra></extra>\",\"legendgroup\":\"lobo\",\"marker\":{\"color\":\"#FFA15A\",\"symbol\":\"circle\"},\"mode\":\"markers\",\"name\":\"lobo\",\"scene\":\"scene\",\"showlegend\":true,\"x\":[11.526557922363281],\"y\":[9.051578521728516],\"z\":[-4.35689115524292],\"type\":\"scatter3d\"},{\"hovertemplate\":\"index=mariposa<br>PC 1=%{x}<br>PC 2=%{y}<br>PC 3=%{z}<extra></extra>\",\"legendgroup\":\"mariposa\",\"marker\":{\"color\":\"#19d3f3\",\"symbol\":\"circle\"},\"mode\":\"markers\",\"name\":\"mariposa\",\"scene\":\"scene\",\"showlegend\":true,\"x\":[-16.638381958007812],\"y\":[-0.7831687927246094],\"z\":[5.01857328414917],\"type\":\"scatter3d\"},{\"hovertemplate\":\"index=ara\\u00f1a<br>PC 1=%{x}<br>PC 2=%{y}<br>PC 3=%{z}<extra></extra>\",\"legendgroup\":\"ara\\u00f1a\",\"marker\":{\"color\":\"#FF6692\",\"symbol\":\"circle\"},\"mode\":\"markers\",\"name\":\"ara\\u00f1a\",\"scene\":\"scene\",\"showlegend\":true,\"x\":[-13.748385429382324],\"y\":[0.7153887748718262],\"z\":[-7.70164680480957],\"type\":\"scatter3d\"},{\"hovertemplate\":\"index=ardilla<br>PC 1=%{x}<br>PC 2=%{y}<br>PC 3=%{z}<extra></extra>\",\"legendgroup\":\"ardilla\",\"marker\":{\"color\":\"#B6E880\",\"symbol\":\"circle\"},\"mode\":\"markers\",\"name\":\"ardilla\",\"scene\":\"scene\",\"showlegend\":true,\"x\":[-8.232337951660156],\"y\":[-6.379613876342773],\"z\":[-6.660385608673096],\"type\":\"scatter3d\"},{\"hovertemplate\":\"index=perro<br>PC 1=%{x}<br>PC 2=%{y}<br>PC 3=%{z}<extra></extra>\",\"legendgroup\":\"perro\",\"marker\":{\"color\":\"#FF97FF\",\"symbol\":\"circle\"},\"mode\":\"markers\",\"name\":\"perro\",\"scene\":\"scene\",\"showlegend\":true,\"x\":[17.288558959960938],\"y\":[-7.118499755859375],\"z\":[-2.5418035984039307],\"type\":\"scatter3d\"}],                        {\"template\":{\"data\":{\"bar\":[{\"error_x\":{\"color\":\"#2a3f5f\"},\"error_y\":{\"color\":\"#2a3f5f\"},\"marker\":{\"line\":{\"color\":\"#E5ECF6\",\"width\":0.5},\"pattern\":{\"fillmode\":\"overlay\",\"size\":10,\"solidity\":0.2}},\"type\":\"bar\"}],\"barpolar\":[{\"marker\":{\"line\":{\"color\":\"#E5ECF6\",\"width\":0.5},\"pattern\":{\"fillmode\":\"overlay\",\"size\":10,\"solidity\":0.2}},\"type\":\"barpolar\"}],\"carpet\":[{\"aaxis\":{\"endlinecolor\":\"#2a3f5f\",\"gridcolor\":\"white\",\"linecolor\":\"white\",\"minorgridcolor\":\"white\",\"startlinecolor\":\"#2a3f5f\"},\"baxis\":{\"endlinecolor\":\"#2a3f5f\",\"gridcolor\":\"white\",\"linecolor\":\"white\",\"minorgridcolor\":\"white\",\"startlinecolor\":\"#2a3f5f\"},\"type\":\"carpet\"}],\"choropleth\":[{\"colorbar\":{\"outlinewidth\":0,\"ticks\":\"\"},\"type\":\"choropleth\"}],\"contour\":[{\"colorbar\":{\"outlinewidth\":0,\"ticks\":\"\"},\"colorscale\":[[0.0,\"#0d0887\"],[0.1111111111111111,\"#46039f\"],[0.2222222222222222,\"#7201a8\"],[0.3333333333333333,\"#9c179e\"],[0.4444444444444444,\"#bd3786\"],[0.5555555555555556,\"#d8576b\"],[0.6666666666666666,\"#ed7953\"],[0.7777777777777778,\"#fb9f3a\"],[0.8888888888888888,\"#fdca26\"],[1.0,\"#f0f921\"]],\"type\":\"contour\"}],\"contourcarpet\":[{\"colorbar\":{\"outlinewidth\":0,\"ticks\":\"\"},\"type\":\"contourcarpet\"}],\"heatmap\":[{\"colorbar\":{\"outlinewidth\":0,\"ticks\":\"\"},\"colorscale\":[[0.0,\"#0d0887\"],[0.1111111111111111,\"#46039f\"],[0.2222222222222222,\"#7201a8\"],[0.3333333333333333,\"#9c179e\"],[0.4444444444444444,\"#bd3786\"],[0.5555555555555556,\"#d8576b\"],[0.6666666666666666,\"#ed7953\"],[0.7777777777777778,\"#fb9f3a\"],[0.8888888888888888,\"#fdca26\"],[1.0,\"#f0f921\"]],\"type\":\"heatmap\"}],\"heatmapgl\":[{\"colorbar\":{\"outlinewidth\":0,\"ticks\":\"\"},\"colorscale\":[[0.0,\"#0d0887\"],[0.1111111111111111,\"#46039f\"],[0.2222222222222222,\"#7201a8\"],[0.3333333333333333,\"#9c179e\"],[0.4444444444444444,\"#bd3786\"],[0.5555555555555556,\"#d8576b\"],[0.6666666666666666,\"#ed7953\"],[0.7777777777777778,\"#fb9f3a\"],[0.8888888888888888,\"#fdca26\"],[1.0,\"#f0f921\"]],\"type\":\"heatmapgl\"}],\"histogram\":[{\"marker\":{\"pattern\":{\"fillmode\":\"overlay\",\"size\":10,\"solidity\":0.2}},\"type\":\"histogram\"}],\"histogram2d\":[{\"colorbar\":{\"outlinewidth\":0,\"ticks\":\"\"},\"colorscale\":[[0.0,\"#0d0887\"],[0.1111111111111111,\"#46039f\"],[0.2222222222222222,\"#7201a8\"],[0.3333333333333333,\"#9c179e\"],[0.4444444444444444,\"#bd3786\"],[0.5555555555555556,\"#d8576b\"],[0.6666666666666666,\"#ed7953\"],[0.7777777777777778,\"#fb9f3a\"],[0.8888888888888888,\"#fdca26\"],[1.0,\"#f0f921\"]],\"type\":\"histogram2d\"}],\"histogram2dcontour\":[{\"colorbar\":{\"outlinewidth\":0,\"ticks\":\"\"},\"colorscale\":[[0.0,\"#0d0887\"],[0.1111111111111111,\"#46039f\"],[0.2222222222222222,\"#7201a8\"],[0.3333333333333333,\"#9c179e\"],[0.4444444444444444,\"#bd3786\"],[0.5555555555555556,\"#d8576b\"],[0.6666666666666666,\"#ed7953\"],[0.7777777777777778,\"#fb9f3a\"],[0.8888888888888888,\"#fdca26\"],[1.0,\"#f0f921\"]],\"type\":\"histogram2dcontour\"}],\"mesh3d\":[{\"colorbar\":{\"outlinewidth\":0,\"ticks\":\"\"},\"type\":\"mesh3d\"}],\"parcoords\":[{\"line\":{\"colorbar\":{\"outlinewidth\":0,\"ticks\":\"\"}},\"type\":\"parcoords\"}],\"pie\":[{\"automargin\":true,\"type\":\"pie\"}],\"scatter\":[{\"marker\":{\"colorbar\":{\"outlinewidth\":0,\"ticks\":\"\"}},\"type\":\"scatter\"}],\"scatter3d\":[{\"line\":{\"colorbar\":{\"outlinewidth\":0,\"ticks\":\"\"}},\"marker\":{\"colorbar\":{\"outlinewidth\":0,\"ticks\":\"\"}},\"type\":\"scatter3d\"}],\"scattercarpet\":[{\"marker\":{\"colorbar\":{\"outlinewidth\":0,\"ticks\":\"\"}},\"type\":\"scattercarpet\"}],\"scattergeo\":[{\"marker\":{\"colorbar\":{\"outlinewidth\":0,\"ticks\":\"\"}},\"type\":\"scattergeo\"}],\"scattergl\":[{\"marker\":{\"colorbar\":{\"outlinewidth\":0,\"ticks\":\"\"}},\"type\":\"scattergl\"}],\"scattermapbox\":[{\"marker\":{\"colorbar\":{\"outlinewidth\":0,\"ticks\":\"\"}},\"type\":\"scattermapbox\"}],\"scatterpolar\":[{\"marker\":{\"colorbar\":{\"outlinewidth\":0,\"ticks\":\"\"}},\"type\":\"scatterpolar\"}],\"scatterpolargl\":[{\"marker\":{\"colorbar\":{\"outlinewidth\":0,\"ticks\":\"\"}},\"type\":\"scatterpolargl\"}],\"scatterternary\":[{\"marker\":{\"colorbar\":{\"outlinewidth\":0,\"ticks\":\"\"}},\"type\":\"scatterternary\"}],\"surface\":[{\"colorbar\":{\"outlinewidth\":0,\"ticks\":\"\"},\"colorscale\":[[0.0,\"#0d0887\"],[0.1111111111111111,\"#46039f\"],[0.2222222222222222,\"#7201a8\"],[0.3333333333333333,\"#9c179e\"],[0.4444444444444444,\"#bd3786\"],[0.5555555555555556,\"#d8576b\"],[0.6666666666666666,\"#ed7953\"],[0.7777777777777778,\"#fb9f3a\"],[0.8888888888888888,\"#fdca26\"],[1.0,\"#f0f921\"]],\"type\":\"surface\"}],\"table\":[{\"cells\":{\"fill\":{\"color\":\"#EBF0F8\"},\"line\":{\"color\":\"white\"}},\"header\":{\"fill\":{\"color\":\"#C8D4E3\"},\"line\":{\"color\":\"white\"}},\"type\":\"table\"}]},\"layout\":{\"annotationdefaults\":{\"arrowcolor\":\"#2a3f5f\",\"arrowhead\":0,\"arrowwidth\":1},\"autotypenumbers\":\"strict\",\"coloraxis\":{\"colorbar\":{\"outlinewidth\":0,\"ticks\":\"\"}},\"colorscale\":{\"diverging\":[[0,\"#8e0152\"],[0.1,\"#c51b7d\"],[0.2,\"#de77ae\"],[0.3,\"#f1b6da\"],[0.4,\"#fde0ef\"],[0.5,\"#f7f7f7\"],[0.6,\"#e6f5d0\"],[0.7,\"#b8e186\"],[0.8,\"#7fbc41\"],[0.9,\"#4d9221\"],[1,\"#276419\"]],\"sequential\":[[0.0,\"#0d0887\"],[0.1111111111111111,\"#46039f\"],[0.2222222222222222,\"#7201a8\"],[0.3333333333333333,\"#9c179e\"],[0.4444444444444444,\"#bd3786\"],[0.5555555555555556,\"#d8576b\"],[0.6666666666666666,\"#ed7953\"],[0.7777777777777778,\"#fb9f3a\"],[0.8888888888888888,\"#fdca26\"],[1.0,\"#f0f921\"]],\"sequentialminus\":[[0.0,\"#0d0887\"],[0.1111111111111111,\"#46039f\"],[0.2222222222222222,\"#7201a8\"],[0.3333333333333333,\"#9c179e\"],[0.4444444444444444,\"#bd3786\"],[0.5555555555555556,\"#d8576b\"],[0.6666666666666666,\"#ed7953\"],[0.7777777777777778,\"#fb9f3a\"],[0.8888888888888888,\"#fdca26\"],[1.0,\"#f0f921\"]]},\"colorway\":[\"#636efa\",\"#EF553B\",\"#00cc96\",\"#ab63fa\",\"#FFA15A\",\"#19d3f3\",\"#FF6692\",\"#B6E880\",\"#FF97FF\",\"#FECB52\"],\"font\":{\"color\":\"#2a3f5f\"},\"geo\":{\"bgcolor\":\"white\",\"lakecolor\":\"white\",\"landcolor\":\"#E5ECF6\",\"showlakes\":true,\"showland\":true,\"subunitcolor\":\"white\"},\"hoverlabel\":{\"align\":\"left\"},\"hovermode\":\"closest\",\"mapbox\":{\"style\":\"light\"},\"paper_bgcolor\":\"white\",\"plot_bgcolor\":\"#E5ECF6\",\"polar\":{\"angularaxis\":{\"gridcolor\":\"white\",\"linecolor\":\"white\",\"ticks\":\"\"},\"bgcolor\":\"#E5ECF6\",\"radialaxis\":{\"gridcolor\":\"white\",\"linecolor\":\"white\",\"ticks\":\"\"}},\"scene\":{\"xaxis\":{\"backgroundcolor\":\"#E5ECF6\",\"gridcolor\":\"white\",\"gridwidth\":2,\"linecolor\":\"white\",\"showbackground\":true,\"ticks\":\"\",\"zerolinecolor\":\"white\"},\"yaxis\":{\"backgroundcolor\":\"#E5ECF6\",\"gridcolor\":\"white\",\"gridwidth\":2,\"linecolor\":\"white\",\"showbackground\":true,\"ticks\":\"\",\"zerolinecolor\":\"white\"},\"zaxis\":{\"backgroundcolor\":\"#E5ECF6\",\"gridcolor\":\"white\",\"gridwidth\":2,\"linecolor\":\"white\",\"showbackground\":true,\"ticks\":\"\",\"zerolinecolor\":\"white\"}},\"shapedefaults\":{\"line\":{\"color\":\"#2a3f5f\"}},\"ternary\":{\"aaxis\":{\"gridcolor\":\"white\",\"linecolor\":\"white\",\"ticks\":\"\"},\"baxis\":{\"gridcolor\":\"white\",\"linecolor\":\"white\",\"ticks\":\"\"},\"bgcolor\":\"#E5ECF6\",\"caxis\":{\"gridcolor\":\"white\",\"linecolor\":\"white\",\"ticks\":\"\"}},\"title\":{\"x\":0.05},\"xaxis\":{\"automargin\":true,\"gridcolor\":\"white\",\"linecolor\":\"white\",\"ticks\":\"\",\"title\":{\"standoff\":15},\"zerolinecolor\":\"white\",\"zerolinewidth\":2},\"yaxis\":{\"automargin\":true,\"gridcolor\":\"white\",\"linecolor\":\"white\",\"ticks\":\"\",\"title\":{\"standoff\":15},\"zerolinecolor\":\"white\",\"zerolinewidth\":2}}},\"scene\":{\"domain\":{\"x\":[0.0,1.0],\"y\":[0.0,1.0]},\"xaxis\":{\"title\":{\"text\":\"PC 1\"}},\"yaxis\":{\"title\":{\"text\":\"PC 2\"}},\"zaxis\":{\"title\":{\"text\":\"PC 3\"}}},\"legend\":{\"title\":{\"text\":\"index\"},\"tracegroupgap\":0},\"margin\":{\"t\":60}},                        {\"responsive\": true}                    ).then(function(){\n",
              "                            \n",
              "var gd = document.getElementById('55a402c9-c433-43f0-8cb0-aec2e04f6409');\n",
              "var x = new MutationObserver(function (mutations, observer) {{\n",
              "        var display = window.getComputedStyle(gd).display;\n",
              "        if (!display || display === 'none') {{\n",
              "            console.log([gd, 'removed!']);\n",
              "            Plotly.purge(gd);\n",
              "            observer.disconnect();\n",
              "        }}\n",
              "}});\n",
              "\n",
              "// Listen for the removal of the full notebook cells\n",
              "var notebookContainer = gd.closest('#notebook-container');\n",
              "if (notebookContainer) {{\n",
              "    x.observe(notebookContainer, {childList: true});\n",
              "}}\n",
              "\n",
              "// Listen for the clearing of the current output cell\n",
              "var outputEl = gd.closest('.output');\n",
              "if (outputEl) {{\n",
              "    x.observe(outputEl, {childList: true});\n",
              "}}\n",
              "\n",
              "                        })                };                            </script>        </div>\n",
              "</body>\n",
              "</html>"
            ]
          },
          "metadata": {}
        },
        {
          "output_type": "stream",
          "name": "stdout",
          "text": [
            "mariposa    0.172968\n",
            "libélula    0.180578\n",
            "araña       0.242797\n",
            "ardilla     0.387270\n",
            "tiburón     0.566994\n",
            "pájaro      0.619912\n",
            "lobo        0.683267\n",
            "gato        0.852810\n",
            "dtype: float32\n"
          ]
        }
      ]
    },
    {
      "cell_type": "markdown",
      "source": [
        "## Seleccionar la palabra con mayor similitud"
      ],
      "metadata": {
        "id": "KGhV08T_vRtI"
      }
    },
    {
      "cell_type": "code",
      "metadata": {
        "id": "cN7ODMs9xTap"
      },
      "source": [
        "def encuentra_palabra(a, b, c):\n",
        "    a, b, c = a.lower(), b.lower(), c.lower()\n",
        "    a_vector, b_vector, c_vector = w2v[a], w2v[b], w2v[c]\n",
        "\n",
        "    max_similitud = -1000 #la inicializamos con una similaridad alejada\n",
        "    mas_parecida = None\n",
        "    \n",
        "    for palabra in vocabulario:\n",
        "        if palabra in [a, b, c]:\n",
        "            continue\n",
        "            \n",
        "        sim_coseno = similitud_coseno(np.subtract(b_vector, a_vector), np.subtract(dic_word2vec[palabra], c_vector))\n",
        "        \n",
        "        if sim_coseno > max_similitud:\n",
        "            max_similitud = sim_coseno\n",
        "            mas_parecida = palabra\n",
        "            \n",
        "    return mas_parecida, sim_coseno"
      ],
      "execution_count": 24,
      "outputs": []
    },
    {
      "cell_type": "code",
      "metadata": {
        "colab": {
          "base_uri": "https://localhost:8080/"
        },
        "id": "pxggufs8_Pbo",
        "outputId": "d3122c9f-59ec-47bb-b013-2a9bc3e1189b"
      },
      "source": [
        "%time encuentra_palabra('hombre', 'rey', 'mujer')"
      ],
      "execution_count": 25,
      "outputs": [
        {
          "output_type": "stream",
          "name": "stdout",
          "text": [
            "CPU times: user 1min 22s, sys: 3.45 s, total: 1min 25s\n",
            "Wall time: 1min 26s\n"
          ]
        },
        {
          "output_type": "execute_result",
          "data": {
            "text/plain": [
              "('reina', 0.20591584)"
            ]
          },
          "metadata": {},
          "execution_count": 25
        }
      ]
    },
    {
      "cell_type": "code",
      "metadata": {
        "colab": {
          "base_uri": "https://localhost:8080/"
        },
        "id": "Qa2F2eQNUkSx",
        "outputId": "dc0d3828-f803-4664-9943-8592520a5b8d"
      },
      "source": [
        "%time w2v.most_similar(positive=['rey','mujer'],negative=['hombre'])"
      ],
      "execution_count": 26,
      "outputs": [
        {
          "output_type": "stream",
          "name": "stdout",
          "text": [
            "CPU times: user 3.57 s, sys: 6.16 s, total: 9.74 s\n",
            "Wall time: 9.92 s\n"
          ]
        },
        {
          "output_type": "execute_result",
          "data": {
            "text/plain": [
              "[('reina', 0.7011107802391052),\n",
              " ('princesa', 0.6539173126220703),\n",
              " ('emperatriz', 0.6132392883300781),\n",
              " ('esposa', 0.5980263948440552),\n",
              " ('doncella', 0.596245527267456),\n",
              " ('dama', 0.5885013341903687),\n",
              " ('infanta', 0.5754831433296204),\n",
              " ('concubina', 0.5528373122215271),\n",
              " ('hija', 0.5507358312606812),\n",
              " ('viuda', 0.538551390171051)]"
            ]
          },
          "metadata": {},
          "execution_count": 26
        }
      ]
    },
    {
      "cell_type": "code",
      "metadata": {
        "colab": {
          "base_uri": "https://localhost:8080/"
        },
        "id": "QGqMPLTIxkIe",
        "outputId": "08042d46-093d-4369-c73b-97484c0496df"
      },
      "source": [
        "%time w2v.most_similar(positive=['día','blanco'],negative=['noche'])"
      ],
      "execution_count": 27,
      "outputs": [
        {
          "output_type": "stream",
          "name": "stdout",
          "text": [
            "CPU times: user 515 ms, sys: 75.1 ms, total: 590 ms\n",
            "Wall time: 312 ms\n"
          ]
        },
        {
          "output_type": "execute_result",
          "data": {
            "text/plain": [
              "[('negro', 0.5269008874893188),\n",
              " ('amarillo', 0.4956654906272888),\n",
              " ('blanco…', 0.49556422233581543),\n",
              " ('color', 0.4882056713104248),\n",
              " ('rojo', 0.4875211715698242),\n",
              " ('brochazo', 0.46383136510849),\n",
              " ('verde', 0.445975661277771),\n",
              " ('azul', 0.44447028636932373),\n",
              " ('dorado', 0.43204599618911743),\n",
              " ('lacito', 0.4297415316104889)]"
            ]
          },
          "metadata": {},
          "execution_count": 27
        }
      ]
    },
    {
      "cell_type": "code",
      "metadata": {
        "colab": {
          "base_uri": "https://localhost:8080/"
        },
        "id": "yaRjrdx-Vqei",
        "outputId": "e45fa59c-f631-481d-876b-9936692e83d2"
      },
      "source": [
        "%time w2v.most_similar(positive=['francia','tokio'],negative=['paris'])"
      ],
      "execution_count": 28,
      "outputs": [
        {
          "output_type": "stream",
          "name": "stdout",
          "text": [
            "CPU times: user 533 ms, sys: 86.8 ms, total: 620 ms\n",
            "Wall time: 330 ms\n"
          ]
        },
        {
          "output_type": "execute_result",
          "data": {
            "text/plain": [
              "[('japón', 0.700680136680603),\n",
              " ('alemania', 0.6910410523414612),\n",
              " ('rusia', 0.6278168559074402),\n",
              " ('italia', 0.6217342615127563),\n",
              " ('españa', 0.6049107313156128),\n",
              " ('inglaterra', 0.5944952964782715),\n",
              " ('europa', 0.5936854481697083),\n",
              " ('china', 0.5927093625068665),\n",
              " ('polonia', 0.5785572528839111),\n",
              " ('moscú', 0.5745718479156494)]"
            ]
          },
          "metadata": {},
          "execution_count": 28
        }
      ]
    },
    {
      "cell_type": "code",
      "metadata": {
        "id": "e34M9bL4tyLK"
      },
      "source": [
        "def encuentra_palabras_parecidas(palabra, n):\n",
        "    palabra = palabra.lower()\n",
        "    palabra_vector = dic_word2vec[palabra]\n",
        "    \n",
        "    max_similitud = -1000 #la inicializamos con una similaridad alejada\n",
        "    mas_parecida = None\n",
        "    \n",
        "    similaridad ={}\n",
        "    for p in vocabulario:\n",
        "        if p is palabra:\n",
        "            continue\n",
        "            \n",
        "        similaridad[p] = similitud_coseno(palabra_vector,dic_word2vec[p])\n",
        "        \n",
        "    similaridad_ordenada = {k:v for k,v in sorted(similaridad.items(),\n",
        "                                                  key=lambda x: x[1],\n",
        "                                                 reverse=True)}\n",
        "    lista_palabras = list(similaridad_ordenada.keys())\n",
        "            \n",
        "    return lista_palabras[0:n]\n"
      ],
      "execution_count": 29,
      "outputs": []
    },
    {
      "cell_type": "code",
      "metadata": {
        "colab": {
          "base_uri": "https://localhost:8080/"
        },
        "id": "yuoZakynx_kD",
        "outputId": "06a52437-446e-48dd-9c27-181009b961a9"
      },
      "source": [
        "%time encuentra_palabras_parecidas('gato',15)"
      ],
      "execution_count": 30,
      "outputs": [
        {
          "output_type": "stream",
          "name": "stdout",
          "text": [
            "CPU times: user 1min 24s, sys: 2.45 s, total: 1min 26s\n",
            "Wall time: 1min 29s\n"
          ]
        },
        {
          "output_type": "execute_result",
          "data": {
            "text/plain": [
              "['gato',\n",
              " 'perro',\n",
              " 'gatito',\n",
              " 'conejo',\n",
              " 'ratón',\n",
              " 'cachorro',\n",
              " 'perrito',\n",
              " 'zorro',\n",
              " 'oso',\n",
              " 'animalito',\n",
              " 'tigre',\n",
              " 'lagarto',\n",
              " 'mapache',\n",
              " 'perrillo',\n",
              " 'animal']"
            ]
          },
          "metadata": {},
          "execution_count": 30
        }
      ]
    },
    {
      "cell_type": "code",
      "metadata": {
        "colab": {
          "base_uri": "https://localhost:8080/"
        },
        "id": "etxHh7RnSx9C",
        "outputId": "6918fac6-5192-4be6-93ec-2d04ab33f454"
      },
      "source": [
        "%time w2v.most_similar('gato')"
      ],
      "execution_count": 31,
      "outputs": [
        {
          "output_type": "stream",
          "name": "stdout",
          "text": [
            "CPU times: user 1.15 s, sys: 204 ms, total: 1.36 s\n",
            "Wall time: 716 ms\n"
          ]
        },
        {
          "output_type": "execute_result",
          "data": {
            "text/plain": [
              "[('perro', 0.8528096675872803),\n",
              " ('gatito', 0.81466144323349),\n",
              " ('conejo', 0.800269603729248),\n",
              " ('ratón', 0.7750607132911682),\n",
              " ('cachorro', 0.7548332214355469),\n",
              " ('perrito', 0.7415482401847839),\n",
              " ('zorro', 0.7346031665802002),\n",
              " ('oso', 0.7332919836044312),\n",
              " ('animalito', 0.7132523655891418),\n",
              " ('tigre', 0.7066872119903564)]"
            ]
          },
          "metadata": {},
          "execution_count": 31
        }
      ]
    },
    {
      "cell_type": "markdown",
      "metadata": {
        "id": "Jper2gt6qy7J"
      },
      "source": [
        "# Recursos\n",
        "\n",
        "1. Almeida A. aitoralmeida/spanish_word2vec [Internet]. 2021 [citado 4 de mayo de 2021]. Disponible en: https://github.com/aitoralmeida/spanish_word2vec\n",
        "2. Ganesan K. Easily Access Pre-trained Word Embeddings with Gensim [Internet]. Kavita Ganesan, Ph.D. 2019 [citado 4 de mayo de 2021]. Disponible en: https://kavita-ganesan.com/easily-access-pre-trained-word-embeddings-with-gensim/\n",
        "3. Picture DS Nikhil Thorat, Charles Nicholson, Big. Embedding projector - visualization of high-dimensional data [Internet]. [citado 4 de mayo de 2021]. Disponible en: http://projector.tensorflow.org\n",
        "4. Python | Word Embedding using Word2Vec [Internet]. GeeksforGeeks. 2018 [citado 4 de mayo de 2021]. Disponible en: https://www.geeksforgeeks.org/python-word-embedding-using-word2vec/\n",
        "5. Alammar J. The Illustrated Word2vec [Internet]. [citado 4 de mayo de 2021]. Disponible en: http://jalammar.github.io/illustrated-word2vec/\n",
        "\n",
        "\n"
      ]
    }
  ]
}